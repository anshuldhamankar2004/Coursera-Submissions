{
 "cells": [
  {
   "cell_type": "markdown",
   "id": "26af719d",
   "metadata": {},
   "source": [
    "#### Add your code below following the instructions given in the course"
   ]
  },
  {
   "cell_type": "markdown",
   "id": "73a0f90f",
   "metadata": {},
   "source": [
    "# Data Science Final Project"
   ]
  },
  {
   "cell_type": "markdown",
   "id": "edf1a30f",
   "metadata": {},
   "source": [
    "## Introduction\n",
    "This notebook demonstrates various fundamental concepts in Data Science, including languages, libraries, tools, and some basic arithmetic operations.\n"
   ]
  },
  {
   "cell_type": "markdown",
   "id": "16a6d447",
   "metadata": {},
   "source": [
    "## Data Science Languages\n",
    "1. Python\n",
    "2. R\n",
    "3. SQL\n",
    "4. Julia\n",
    "5. Scala\n"
   ]
  },
  {
   "cell_type": "markdown",
   "id": "1137ffdf",
   "metadata": {},
   "source": [
    "## Data Science Libraries\n",
    "- NumPy\n",
    "- Pandas\n",
    "- Matplotlib\n",
    "- Scikit-learn\n",
    "- TensorFlow\n",
    "- Keras\n",
    "- ggplot2\n",
    "- dplyr\n"
   ]
  },
  {
   "cell_type": "markdown",
   "id": "3a2a53eb",
   "metadata": {},
   "source": [
    "## Data Science Tools\n",
    "| Tool              | Description                                   |\n",
    "|-------------------|-----------------------------------------------|\n",
    "| Jupyter Notebook  | Interactive computing environment             |\n",
    "| RStudio           | IDE for R programming                         |\n",
    "| Apache Hadoop     | Framework for distributed storage and processing of large data sets |\n",
    "| Apache Spark      | Unified analytics engine for big data processing |\n"
   ]
  },
  {
   "cell_type": "markdown",
   "id": "b4e828d3",
   "metadata": {},
   "source": [
    "## Arithmetic Expression Examples\n",
    "Below are examples of basic arithmetic operations such as addition, subtraction, multiplication, and division.\n"
   ]
  },
  {
   "cell_type": "code",
   "execution_count": 6,
   "id": "cb7eea47",
   "metadata": {},
   "outputs": [
    {
     "data": {
      "text/plain": [
       "55"
      ]
     },
     "execution_count": 6,
     "metadata": {},
     "output_type": "execute_result"
    }
   ],
   "source": [
    "# Multiplying and adding numbers\n",
    "a = 5\n",
    "b = 10\n",
    "result = (a * b) + a\n",
    "result\n"
   ]
  },
  {
   "cell_type": "markdown",
   "id": "e38279ab",
   "metadata": {},
   "source": [
    "## Objectives\n",
    "- List popular languages for Data Science\n",
    "- Identify commonly used Data Science libraries\n",
    "- Demonstrate usage of arithmetic expressions in Python\n",
    "- Illustrate conversion of time units in Python\n",
    "- Share the notebook via GitHub\n"
   ]
  },
  {
   "cell_type": "markdown",
   "id": "05dfc179",
   "metadata": {},
   "source": [
    "## Author\n",
    "John Doe\n"
   ]
  },
  {
   "cell_type": "code",
   "execution_count": null,
   "id": "16c7f3c2",
   "metadata": {},
   "outputs": [],
   "source": []
  }
 ],
 "metadata": {
  "kernelspec": {
   "display_name": "Python 3 (ipykernel)",
   "language": "python",
   "name": "python3"
  },
  "language_info": {
   "codemirror_mode": {
    "name": "ipython",
    "version": 3
   },
   "file_extension": ".py",
   "mimetype": "text/x-python",
   "name": "python",
   "nbconvert_exporter": "python",
   "pygments_lexer": "ipython3",
   "version": "3.10.9"
  }
 },
 "nbformat": 4,
 "nbformat_minor": 5
}
